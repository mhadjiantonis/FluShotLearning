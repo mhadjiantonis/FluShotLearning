{
 "cells": [
  {
   "cell_type": "markdown",
   "id": "2498b975",
   "metadata": {},
   "source": [
    "# Flu Shot Learning\n",
    "\n",
    "The goal of this notebook is to predict the whether each of a group of individuals have received two types of flu vaccines using a number of different relevant features.\n",
    "\n",
    "This project is part of the [Flu Shot Learning competition](https://www.drivendata.org/competitions/66/flu-shot-learning/) by Driven Data.\n",
    "\n",
    "The data for this competition comes from the National 2009 H1N1 Flu Survey (NHFS).  In their own words:\n",
    "\n",
    ">The National 2009 H1N1 Flu Survey (NHFS) was sponsored by the National Center for Immunization and Respiratory Diseases (NCIRD) and conducted jointly by NCIRD and the National Center for Health Statistics (NCHS), Centers for Disease Control and Prevention (CDC). The NHFS was a list-assisted random-digit-dialing telephone survey of households, designed to monitor influenza immunization coverage in the 2009-10 season.\n",
    ">\n",
    ">The target population for the NHFS was all persons 6 months or older living in the United States at the time of the interview. Data from the NHFS were used to produce timely estimates of vaccination coverage rates for both the monovalent pH1N1 and trivalent seasonal influenza vaccines.\n",
    "     \n",
    "[<cite>National 2009 H1N1 Flu Survey (NHFS) Public-Use Data File (PUF)</cite>](https://ftp.cdc.gov/pub/Health_Statistics/NCHS/Datasets/nis/nhfs/nhfspuf_readme.txt)"
   ]
  },
  {
   "cell_type": "code",
   "execution_count": 1,
   "id": "7eed25a4",
   "metadata": {},
   "outputs": [],
   "source": [
    "# Import basic libraries\n",
    "import numpy as np\n",
    "import pandas as pd \n",
    "import matplotlib.pyplot as plt\n",
    "import seaborn as sns\n",
    "\n",
    "%matplotlib inline\n",
    "\n",
    "sns.set_style('dark')"
   ]
  },
  {
   "cell_type": "markdown",
   "id": "2ded5061",
   "metadata": {},
   "source": [
    "# Read data\n",
    "\n",
    "Training data are stored in 2 separate files, one with the features and one with the labels for each entry."
   ]
  },
  {
   "cell_type": "code",
   "execution_count": 2,
   "id": "e134e4c6",
   "metadata": {},
   "outputs": [],
   "source": [
    "def get_data(feat_path, label_path=''):\n",
    "    df_X = pd.read_csv(feat_path)\n",
    "    df_X.set_index('respondent_id', inplace=True)\n",
    "    nominals = [col for col in df_X.columns if df_X[col].nunique() == 2] + [\n",
    "        'race', 'employment_status', 'hhs_geo_region', 'census_msa', 'employment_industry', 'employment_occupation']\n",
    "    ordinals = [col for col in df_X.columns if col not in nominals]\n",
    "    age_cat = pd.api.types.CategoricalDtype(['18 - 34 Years', '35 - 44 Years', '45 - 54 Years', '55 - 64 Years', '65+ Years'],\n",
    "                                           ordered=True)\n",
    "    college_cat = pd.api.types.CategoricalDtype(['< 12 Years', '12 Years', 'Some College', 'College Graduate'], ordered=True)\n",
    "    income_cat = pd.api.types.CategoricalDtype(['Below Poverty', '<= $75,000, Above Poverty', '> $75,000'], ordered=True)\n",
    "    df_X['age_group'] = df_X['age_group'].astype(age_cat)\n",
    "    df_X['education'] = df_X['education'].astype(college_cat)\n",
    "    df_X['income_poverty'] = df_X['income_poverty'].astype(income_cat)\n",
    "    for col in ordinals:\n",
    "        if col not in ['age_group', 'education', 'income_poverty']:\n",
    "            df_X[col] = df_X[col].astype(pd.api.types.CategoricalDtype([1., 2., 3., 4., 5.], ordered=True))\n",
    "    for col in nominals:\n",
    "        df_X[col] = df_X[col].astype('category')\n",
    "    ret = [df_X]\n",
    "    if label_path != '':\n",
    "        df_Y = pd.read_csv(label_path)\n",
    "        df_Y.set_index('respondent_id', inplace=True)\n",
    "        df_Y = df_Y.astype(bool)\n",
    "        ret.append(df_Y)\n",
    "    return ret"
   ]
  },
  {
   "cell_type": "code",
   "execution_count": 3,
   "id": "a8cc7889",
   "metadata": {},
   "outputs": [],
   "source": [
    "X, Y = get_data('data/training_set_features.csv', 'data/training_set_labels.csv')"
   ]
  },
  {
   "cell_type": "code",
   "execution_count": 4,
   "id": "64b3f2cf",
   "metadata": {},
   "outputs": [
    {
     "data": {
      "text/html": [
       "<div>\n",
       "<style scoped>\n",
       "    .dataframe tbody tr th:only-of-type {\n",
       "        vertical-align: middle;\n",
       "    }\n",
       "\n",
       "    .dataframe tbody tr th {\n",
       "        vertical-align: top;\n",
       "    }\n",
       "\n",
       "    .dataframe thead th {\n",
       "        text-align: right;\n",
       "    }\n",
       "</style>\n",
       "<table border=\"1\" class=\"dataframe\">\n",
       "  <thead>\n",
       "    <tr style=\"text-align: right;\">\n",
       "      <th></th>\n",
       "      <th>h1n1_concern</th>\n",
       "      <th>h1n1_knowledge</th>\n",
       "      <th>behavioral_antiviral_meds</th>\n",
       "      <th>behavioral_avoidance</th>\n",
       "      <th>behavioral_face_mask</th>\n",
       "      <th>behavioral_wash_hands</th>\n",
       "      <th>behavioral_large_gatherings</th>\n",
       "      <th>behavioral_outside_home</th>\n",
       "      <th>behavioral_touch_face</th>\n",
       "      <th>doctor_recc_h1n1</th>\n",
       "      <th>...</th>\n",
       "      <th>income_poverty</th>\n",
       "      <th>marital_status</th>\n",
       "      <th>rent_or_own</th>\n",
       "      <th>employment_status</th>\n",
       "      <th>hhs_geo_region</th>\n",
       "      <th>census_msa</th>\n",
       "      <th>household_adults</th>\n",
       "      <th>household_children</th>\n",
       "      <th>employment_industry</th>\n",
       "      <th>employment_occupation</th>\n",
       "    </tr>\n",
       "    <tr>\n",
       "      <th>respondent_id</th>\n",
       "      <th></th>\n",
       "      <th></th>\n",
       "      <th></th>\n",
       "      <th></th>\n",
       "      <th></th>\n",
       "      <th></th>\n",
       "      <th></th>\n",
       "      <th></th>\n",
       "      <th></th>\n",
       "      <th></th>\n",
       "      <th></th>\n",
       "      <th></th>\n",
       "      <th></th>\n",
       "      <th></th>\n",
       "      <th></th>\n",
       "      <th></th>\n",
       "      <th></th>\n",
       "      <th></th>\n",
       "      <th></th>\n",
       "      <th></th>\n",
       "      <th></th>\n",
       "    </tr>\n",
       "  </thead>\n",
       "  <tbody>\n",
       "    <tr>\n",
       "      <th>0</th>\n",
       "      <td>1.0</td>\n",
       "      <td>NaN</td>\n",
       "      <td>0.0</td>\n",
       "      <td>0.0</td>\n",
       "      <td>0.0</td>\n",
       "      <td>0.0</td>\n",
       "      <td>0.0</td>\n",
       "      <td>1.0</td>\n",
       "      <td>1.0</td>\n",
       "      <td>0.0</td>\n",
       "      <td>...</td>\n",
       "      <td>Below Poverty</td>\n",
       "      <td>Not Married</td>\n",
       "      <td>Own</td>\n",
       "      <td>Not in Labor Force</td>\n",
       "      <td>oxchjgsf</td>\n",
       "      <td>Non-MSA</td>\n",
       "      <td>NaN</td>\n",
       "      <td>NaN</td>\n",
       "      <td>NaN</td>\n",
       "      <td>NaN</td>\n",
       "    </tr>\n",
       "    <tr>\n",
       "      <th>1</th>\n",
       "      <td>3.0</td>\n",
       "      <td>2.0</td>\n",
       "      <td>0.0</td>\n",
       "      <td>1.0</td>\n",
       "      <td>0.0</td>\n",
       "      <td>1.0</td>\n",
       "      <td>0.0</td>\n",
       "      <td>1.0</td>\n",
       "      <td>1.0</td>\n",
       "      <td>0.0</td>\n",
       "      <td>...</td>\n",
       "      <td>Below Poverty</td>\n",
       "      <td>Not Married</td>\n",
       "      <td>Rent</td>\n",
       "      <td>Employed</td>\n",
       "      <td>bhuqouqj</td>\n",
       "      <td>MSA, Not Principle  City</td>\n",
       "      <td>NaN</td>\n",
       "      <td>NaN</td>\n",
       "      <td>pxcmvdjn</td>\n",
       "      <td>xgwztkwe</td>\n",
       "    </tr>\n",
       "    <tr>\n",
       "      <th>2</th>\n",
       "      <td>1.0</td>\n",
       "      <td>1.0</td>\n",
       "      <td>0.0</td>\n",
       "      <td>1.0</td>\n",
       "      <td>0.0</td>\n",
       "      <td>0.0</td>\n",
       "      <td>0.0</td>\n",
       "      <td>0.0</td>\n",
       "      <td>0.0</td>\n",
       "      <td>NaN</td>\n",
       "      <td>...</td>\n",
       "      <td>&lt;= $75,000, Above Poverty</td>\n",
       "      <td>Not Married</td>\n",
       "      <td>Own</td>\n",
       "      <td>Employed</td>\n",
       "      <td>qufhixun</td>\n",
       "      <td>MSA, Not Principle  City</td>\n",
       "      <td>2.0</td>\n",
       "      <td>NaN</td>\n",
       "      <td>rucpziij</td>\n",
       "      <td>xtkaffoo</td>\n",
       "    </tr>\n",
       "    <tr>\n",
       "      <th>3</th>\n",
       "      <td>1.0</td>\n",
       "      <td>1.0</td>\n",
       "      <td>0.0</td>\n",
       "      <td>1.0</td>\n",
       "      <td>0.0</td>\n",
       "      <td>1.0</td>\n",
       "      <td>1.0</td>\n",
       "      <td>0.0</td>\n",
       "      <td>0.0</td>\n",
       "      <td>0.0</td>\n",
       "      <td>...</td>\n",
       "      <td>Below Poverty</td>\n",
       "      <td>Not Married</td>\n",
       "      <td>Rent</td>\n",
       "      <td>Not in Labor Force</td>\n",
       "      <td>lrircsnp</td>\n",
       "      <td>MSA, Principle City</td>\n",
       "      <td>NaN</td>\n",
       "      <td>NaN</td>\n",
       "      <td>NaN</td>\n",
       "      <td>NaN</td>\n",
       "    </tr>\n",
       "    <tr>\n",
       "      <th>4</th>\n",
       "      <td>2.0</td>\n",
       "      <td>1.0</td>\n",
       "      <td>0.0</td>\n",
       "      <td>1.0</td>\n",
       "      <td>0.0</td>\n",
       "      <td>1.0</td>\n",
       "      <td>1.0</td>\n",
       "      <td>0.0</td>\n",
       "      <td>1.0</td>\n",
       "      <td>0.0</td>\n",
       "      <td>...</td>\n",
       "      <td>&lt;= $75,000, Above Poverty</td>\n",
       "      <td>Married</td>\n",
       "      <td>Own</td>\n",
       "      <td>Employed</td>\n",
       "      <td>qufhixun</td>\n",
       "      <td>MSA, Not Principle  City</td>\n",
       "      <td>1.0</td>\n",
       "      <td>NaN</td>\n",
       "      <td>wxleyezf</td>\n",
       "      <td>emcorrxb</td>\n",
       "    </tr>\n",
       "    <tr>\n",
       "      <th>...</th>\n",
       "      <td>...</td>\n",
       "      <td>...</td>\n",
       "      <td>...</td>\n",
       "      <td>...</td>\n",
       "      <td>...</td>\n",
       "      <td>...</td>\n",
       "      <td>...</td>\n",
       "      <td>...</td>\n",
       "      <td>...</td>\n",
       "      <td>...</td>\n",
       "      <td>...</td>\n",
       "      <td>...</td>\n",
       "      <td>...</td>\n",
       "      <td>...</td>\n",
       "      <td>...</td>\n",
       "      <td>...</td>\n",
       "      <td>...</td>\n",
       "      <td>...</td>\n",
       "      <td>...</td>\n",
       "      <td>...</td>\n",
       "      <td>...</td>\n",
       "    </tr>\n",
       "    <tr>\n",
       "      <th>26702</th>\n",
       "      <td>2.0</td>\n",
       "      <td>NaN</td>\n",
       "      <td>0.0</td>\n",
       "      <td>1.0</td>\n",
       "      <td>0.0</td>\n",
       "      <td>0.0</td>\n",
       "      <td>0.0</td>\n",
       "      <td>1.0</td>\n",
       "      <td>0.0</td>\n",
       "      <td>0.0</td>\n",
       "      <td>...</td>\n",
       "      <td>&lt;= $75,000, Above Poverty</td>\n",
       "      <td>Not Married</td>\n",
       "      <td>Own</td>\n",
       "      <td>Not in Labor Force</td>\n",
       "      <td>qufhixun</td>\n",
       "      <td>Non-MSA</td>\n",
       "      <td>NaN</td>\n",
       "      <td>NaN</td>\n",
       "      <td>NaN</td>\n",
       "      <td>NaN</td>\n",
       "    </tr>\n",
       "    <tr>\n",
       "      <th>26703</th>\n",
       "      <td>1.0</td>\n",
       "      <td>2.0</td>\n",
       "      <td>0.0</td>\n",
       "      <td>1.0</td>\n",
       "      <td>0.0</td>\n",
       "      <td>1.0</td>\n",
       "      <td>0.0</td>\n",
       "      <td>0.0</td>\n",
       "      <td>0.0</td>\n",
       "      <td>1.0</td>\n",
       "      <td>...</td>\n",
       "      <td>&lt;= $75,000, Above Poverty</td>\n",
       "      <td>Not Married</td>\n",
       "      <td>Rent</td>\n",
       "      <td>Employed</td>\n",
       "      <td>lzgpxyit</td>\n",
       "      <td>MSA, Principle City</td>\n",
       "      <td>1.0</td>\n",
       "      <td>NaN</td>\n",
       "      <td>fcxhlnwr</td>\n",
       "      <td>cmhcxjea</td>\n",
       "    </tr>\n",
       "    <tr>\n",
       "      <th>26704</th>\n",
       "      <td>2.0</td>\n",
       "      <td>2.0</td>\n",
       "      <td>0.0</td>\n",
       "      <td>1.0</td>\n",
       "      <td>1.0</td>\n",
       "      <td>1.0</td>\n",
       "      <td>1.0</td>\n",
       "      <td>0.0</td>\n",
       "      <td>1.0</td>\n",
       "      <td>0.0</td>\n",
       "      <td>...</td>\n",
       "      <td>NaN</td>\n",
       "      <td>Not Married</td>\n",
       "      <td>Own</td>\n",
       "      <td>NaN</td>\n",
       "      <td>lzgpxyit</td>\n",
       "      <td>MSA, Not Principle  City</td>\n",
       "      <td>NaN</td>\n",
       "      <td>NaN</td>\n",
       "      <td>NaN</td>\n",
       "      <td>NaN</td>\n",
       "    </tr>\n",
       "    <tr>\n",
       "      <th>26705</th>\n",
       "      <td>1.0</td>\n",
       "      <td>1.0</td>\n",
       "      <td>0.0</td>\n",
       "      <td>0.0</td>\n",
       "      <td>0.0</td>\n",
       "      <td>0.0</td>\n",
       "      <td>0.0</td>\n",
       "      <td>0.0</td>\n",
       "      <td>NaN</td>\n",
       "      <td>0.0</td>\n",
       "      <td>...</td>\n",
       "      <td>&lt;= $75,000, Above Poverty</td>\n",
       "      <td>Married</td>\n",
       "      <td>Rent</td>\n",
       "      <td>Employed</td>\n",
       "      <td>lrircsnp</td>\n",
       "      <td>Non-MSA</td>\n",
       "      <td>1.0</td>\n",
       "      <td>NaN</td>\n",
       "      <td>fcxhlnwr</td>\n",
       "      <td>haliazsg</td>\n",
       "    </tr>\n",
       "    <tr>\n",
       "      <th>26706</th>\n",
       "      <td>NaN</td>\n",
       "      <td>NaN</td>\n",
       "      <td>0.0</td>\n",
       "      <td>1.0</td>\n",
       "      <td>0.0</td>\n",
       "      <td>0.0</td>\n",
       "      <td>0.0</td>\n",
       "      <td>0.0</td>\n",
       "      <td>0.0</td>\n",
       "      <td>0.0</td>\n",
       "      <td>...</td>\n",
       "      <td>&lt;= $75,000, Above Poverty</td>\n",
       "      <td>Married</td>\n",
       "      <td>Own</td>\n",
       "      <td>Not in Labor Force</td>\n",
       "      <td>mlyzmhmf</td>\n",
       "      <td>MSA, Principle City</td>\n",
       "      <td>1.0</td>\n",
       "      <td>NaN</td>\n",
       "      <td>NaN</td>\n",
       "      <td>NaN</td>\n",
       "    </tr>\n",
       "  </tbody>\n",
       "</table>\n",
       "<p>26707 rows × 35 columns</p>\n",
       "</div>"
      ],
      "text/plain": [
       "              h1n1_concern h1n1_knowledge behavioral_antiviral_meds  \\\n",
       "respondent_id                                                         \n",
       "0                      1.0            NaN                       0.0   \n",
       "1                      3.0            2.0                       0.0   \n",
       "2                      1.0            1.0                       0.0   \n",
       "3                      1.0            1.0                       0.0   \n",
       "4                      2.0            1.0                       0.0   \n",
       "...                    ...            ...                       ...   \n",
       "26702                  2.0            NaN                       0.0   \n",
       "26703                  1.0            2.0                       0.0   \n",
       "26704                  2.0            2.0                       0.0   \n",
       "26705                  1.0            1.0                       0.0   \n",
       "26706                  NaN            NaN                       0.0   \n",
       "\n",
       "              behavioral_avoidance behavioral_face_mask behavioral_wash_hands  \\\n",
       "respondent_id                                                                   \n",
       "0                              0.0                  0.0                   0.0   \n",
       "1                              1.0                  0.0                   1.0   \n",
       "2                              1.0                  0.0                   0.0   \n",
       "3                              1.0                  0.0                   1.0   \n",
       "4                              1.0                  0.0                   1.0   \n",
       "...                            ...                  ...                   ...   \n",
       "26702                          1.0                  0.0                   0.0   \n",
       "26703                          1.0                  0.0                   1.0   \n",
       "26704                          1.0                  1.0                   1.0   \n",
       "26705                          0.0                  0.0                   0.0   \n",
       "26706                          1.0                  0.0                   0.0   \n",
       "\n",
       "              behavioral_large_gatherings behavioral_outside_home  \\\n",
       "respondent_id                                                       \n",
       "0                                     0.0                     1.0   \n",
       "1                                     0.0                     1.0   \n",
       "2                                     0.0                     0.0   \n",
       "3                                     1.0                     0.0   \n",
       "4                                     1.0                     0.0   \n",
       "...                                   ...                     ...   \n",
       "26702                                 0.0                     1.0   \n",
       "26703                                 0.0                     0.0   \n",
       "26704                                 1.0                     0.0   \n",
       "26705                                 0.0                     0.0   \n",
       "26706                                 0.0                     0.0   \n",
       "\n",
       "              behavioral_touch_face doctor_recc_h1n1  ...  \\\n",
       "respondent_id                                         ...   \n",
       "0                               1.0              0.0  ...   \n",
       "1                               1.0              0.0  ...   \n",
       "2                               0.0              NaN  ...   \n",
       "3                               0.0              0.0  ...   \n",
       "4                               1.0              0.0  ...   \n",
       "...                             ...              ...  ...   \n",
       "26702                           0.0              0.0  ...   \n",
       "26703                           0.0              1.0  ...   \n",
       "26704                           1.0              0.0  ...   \n",
       "26705                           NaN              0.0  ...   \n",
       "26706                           0.0              0.0  ...   \n",
       "\n",
       "                          income_poverty marital_status rent_or_own  \\\n",
       "respondent_id                                                         \n",
       "0                          Below Poverty    Not Married         Own   \n",
       "1                          Below Poverty    Not Married        Rent   \n",
       "2              <= $75,000, Above Poverty    Not Married         Own   \n",
       "3                          Below Poverty    Not Married        Rent   \n",
       "4              <= $75,000, Above Poverty        Married         Own   \n",
       "...                                  ...            ...         ...   \n",
       "26702          <= $75,000, Above Poverty    Not Married         Own   \n",
       "26703          <= $75,000, Above Poverty    Not Married        Rent   \n",
       "26704                                NaN    Not Married         Own   \n",
       "26705          <= $75,000, Above Poverty        Married        Rent   \n",
       "26706          <= $75,000, Above Poverty        Married         Own   \n",
       "\n",
       "                employment_status hhs_geo_region                census_msa  \\\n",
       "respondent_id                                                                \n",
       "0              Not in Labor Force       oxchjgsf                   Non-MSA   \n",
       "1                        Employed       bhuqouqj  MSA, Not Principle  City   \n",
       "2                        Employed       qufhixun  MSA, Not Principle  City   \n",
       "3              Not in Labor Force       lrircsnp       MSA, Principle City   \n",
       "4                        Employed       qufhixun  MSA, Not Principle  City   \n",
       "...                           ...            ...                       ...   \n",
       "26702          Not in Labor Force       qufhixun                   Non-MSA   \n",
       "26703                    Employed       lzgpxyit       MSA, Principle City   \n",
       "26704                         NaN       lzgpxyit  MSA, Not Principle  City   \n",
       "26705                    Employed       lrircsnp                   Non-MSA   \n",
       "26706          Not in Labor Force       mlyzmhmf       MSA, Principle City   \n",
       "\n",
       "              household_adults household_children employment_industry  \\\n",
       "respondent_id                                                           \n",
       "0                          NaN                NaN                 NaN   \n",
       "1                          NaN                NaN            pxcmvdjn   \n",
       "2                          2.0                NaN            rucpziij   \n",
       "3                          NaN                NaN                 NaN   \n",
       "4                          1.0                NaN            wxleyezf   \n",
       "...                        ...                ...                 ...   \n",
       "26702                      NaN                NaN                 NaN   \n",
       "26703                      1.0                NaN            fcxhlnwr   \n",
       "26704                      NaN                NaN                 NaN   \n",
       "26705                      1.0                NaN            fcxhlnwr   \n",
       "26706                      1.0                NaN                 NaN   \n",
       "\n",
       "              employment_occupation  \n",
       "respondent_id                        \n",
       "0                               NaN  \n",
       "1                          xgwztkwe  \n",
       "2                          xtkaffoo  \n",
       "3                               NaN  \n",
       "4                          emcorrxb  \n",
       "...                             ...  \n",
       "26702                           NaN  \n",
       "26703                      cmhcxjea  \n",
       "26704                           NaN  \n",
       "26705                      haliazsg  \n",
       "26706                           NaN  \n",
       "\n",
       "[26707 rows x 35 columns]"
      ]
     },
     "execution_count": 4,
     "metadata": {},
     "output_type": "execute_result"
    }
   ],
   "source": [
    "X"
   ]
  },
  {
   "cell_type": "code",
   "execution_count": 5,
   "id": "0c734298",
   "metadata": {},
   "outputs": [
    {
     "data": {
      "text/html": [
       "<div>\n",
       "<style scoped>\n",
       "    .dataframe tbody tr th:only-of-type {\n",
       "        vertical-align: middle;\n",
       "    }\n",
       "\n",
       "    .dataframe tbody tr th {\n",
       "        vertical-align: top;\n",
       "    }\n",
       "\n",
       "    .dataframe thead th {\n",
       "        text-align: right;\n",
       "    }\n",
       "</style>\n",
       "<table border=\"1\" class=\"dataframe\">\n",
       "  <thead>\n",
       "    <tr style=\"text-align: right;\">\n",
       "      <th></th>\n",
       "      <th>h1n1_vaccine</th>\n",
       "      <th>seasonal_vaccine</th>\n",
       "    </tr>\n",
       "    <tr>\n",
       "      <th>respondent_id</th>\n",
       "      <th></th>\n",
       "      <th></th>\n",
       "    </tr>\n",
       "  </thead>\n",
       "  <tbody>\n",
       "    <tr>\n",
       "      <th>0</th>\n",
       "      <td>False</td>\n",
       "      <td>False</td>\n",
       "    </tr>\n",
       "    <tr>\n",
       "      <th>1</th>\n",
       "      <td>False</td>\n",
       "      <td>True</td>\n",
       "    </tr>\n",
       "    <tr>\n",
       "      <th>2</th>\n",
       "      <td>False</td>\n",
       "      <td>False</td>\n",
       "    </tr>\n",
       "    <tr>\n",
       "      <th>3</th>\n",
       "      <td>False</td>\n",
       "      <td>True</td>\n",
       "    </tr>\n",
       "    <tr>\n",
       "      <th>4</th>\n",
       "      <td>False</td>\n",
       "      <td>False</td>\n",
       "    </tr>\n",
       "    <tr>\n",
       "      <th>...</th>\n",
       "      <td>...</td>\n",
       "      <td>...</td>\n",
       "    </tr>\n",
       "    <tr>\n",
       "      <th>26702</th>\n",
       "      <td>False</td>\n",
       "      <td>False</td>\n",
       "    </tr>\n",
       "    <tr>\n",
       "      <th>26703</th>\n",
       "      <td>False</td>\n",
       "      <td>False</td>\n",
       "    </tr>\n",
       "    <tr>\n",
       "      <th>26704</th>\n",
       "      <td>False</td>\n",
       "      <td>True</td>\n",
       "    </tr>\n",
       "    <tr>\n",
       "      <th>26705</th>\n",
       "      <td>False</td>\n",
       "      <td>False</td>\n",
       "    </tr>\n",
       "    <tr>\n",
       "      <th>26706</th>\n",
       "      <td>False</td>\n",
       "      <td>False</td>\n",
       "    </tr>\n",
       "  </tbody>\n",
       "</table>\n",
       "<p>26707 rows × 2 columns</p>\n",
       "</div>"
      ],
      "text/plain": [
       "               h1n1_vaccine  seasonal_vaccine\n",
       "respondent_id                                \n",
       "0                     False             False\n",
       "1                     False              True\n",
       "2                     False             False\n",
       "3                     False              True\n",
       "4                     False             False\n",
       "...                     ...               ...\n",
       "26702                 False             False\n",
       "26703                 False             False\n",
       "26704                 False              True\n",
       "26705                 False             False\n",
       "26706                 False             False\n",
       "\n",
       "[26707 rows x 2 columns]"
      ]
     },
     "execution_count": 5,
     "metadata": {},
     "output_type": "execute_result"
    }
   ],
   "source": [
    "Y"
   ]
  },
  {
   "cell_type": "code",
   "execution_count": 6,
   "id": "3946ffce",
   "metadata": {},
   "outputs": [
    {
     "data": {
      "text/html": [
       "<div>\n",
       "<style scoped>\n",
       "    .dataframe tbody tr th:only-of-type {\n",
       "        vertical-align: middle;\n",
       "    }\n",
       "\n",
       "    .dataframe tbody tr th {\n",
       "        vertical-align: top;\n",
       "    }\n",
       "\n",
       "    .dataframe thead th {\n",
       "        text-align: right;\n",
       "    }\n",
       "</style>\n",
       "<table border=\"1\" class=\"dataframe\">\n",
       "  <thead>\n",
       "    <tr style=\"text-align: right;\">\n",
       "      <th></th>\n",
       "      <th>h1n1_concern</th>\n",
       "      <th>h1n1_knowledge</th>\n",
       "      <th>behavioral_antiviral_meds</th>\n",
       "      <th>behavioral_avoidance</th>\n",
       "      <th>behavioral_face_mask</th>\n",
       "      <th>behavioral_wash_hands</th>\n",
       "      <th>behavioral_large_gatherings</th>\n",
       "      <th>behavioral_outside_home</th>\n",
       "      <th>behavioral_touch_face</th>\n",
       "      <th>doctor_recc_h1n1</th>\n",
       "      <th>...</th>\n",
       "      <th>rent_or_own</th>\n",
       "      <th>employment_status</th>\n",
       "      <th>hhs_geo_region</th>\n",
       "      <th>census_msa</th>\n",
       "      <th>household_adults</th>\n",
       "      <th>household_children</th>\n",
       "      <th>employment_industry</th>\n",
       "      <th>employment_occupation</th>\n",
       "      <th>h1n1_vaccine</th>\n",
       "      <th>seasonal_vaccine</th>\n",
       "    </tr>\n",
       "    <tr>\n",
       "      <th>respondent_id</th>\n",
       "      <th></th>\n",
       "      <th></th>\n",
       "      <th></th>\n",
       "      <th></th>\n",
       "      <th></th>\n",
       "      <th></th>\n",
       "      <th></th>\n",
       "      <th></th>\n",
       "      <th></th>\n",
       "      <th></th>\n",
       "      <th></th>\n",
       "      <th></th>\n",
       "      <th></th>\n",
       "      <th></th>\n",
       "      <th></th>\n",
       "      <th></th>\n",
       "      <th></th>\n",
       "      <th></th>\n",
       "      <th></th>\n",
       "      <th></th>\n",
       "      <th></th>\n",
       "    </tr>\n",
       "  </thead>\n",
       "  <tbody>\n",
       "    <tr>\n",
       "      <th>6528</th>\n",
       "      <td>3.0</td>\n",
       "      <td>NaN</td>\n",
       "      <td>0.0</td>\n",
       "      <td>1.0</td>\n",
       "      <td>0.0</td>\n",
       "      <td>1.0</td>\n",
       "      <td>0.0</td>\n",
       "      <td>1.0</td>\n",
       "      <td>1.0</td>\n",
       "      <td>0.0</td>\n",
       "      <td>...</td>\n",
       "      <td>Own</td>\n",
       "      <td>Not in Labor Force</td>\n",
       "      <td>lzgpxyit</td>\n",
       "      <td>MSA, Not Principle  City</td>\n",
       "      <td>1.0</td>\n",
       "      <td>NaN</td>\n",
       "      <td>NaN</td>\n",
       "      <td>NaN</td>\n",
       "      <td>False</td>\n",
       "      <td>True</td>\n",
       "    </tr>\n",
       "    <tr>\n",
       "      <th>4129</th>\n",
       "      <td>1.0</td>\n",
       "      <td>2.0</td>\n",
       "      <td>0.0</td>\n",
       "      <td>1.0</td>\n",
       "      <td>0.0</td>\n",
       "      <td>1.0</td>\n",
       "      <td>0.0</td>\n",
       "      <td>0.0</td>\n",
       "      <td>1.0</td>\n",
       "      <td>NaN</td>\n",
       "      <td>...</td>\n",
       "      <td>Rent</td>\n",
       "      <td>Employed</td>\n",
       "      <td>oxchjgsf</td>\n",
       "      <td>MSA, Not Principle  City</td>\n",
       "      <td>1.0</td>\n",
       "      <td>3.0</td>\n",
       "      <td>NaN</td>\n",
       "      <td>xtkaffoo</td>\n",
       "      <td>False</td>\n",
       "      <td>False</td>\n",
       "    </tr>\n",
       "    <tr>\n",
       "      <th>16632</th>\n",
       "      <td>2.0</td>\n",
       "      <td>2.0</td>\n",
       "      <td>0.0</td>\n",
       "      <td>1.0</td>\n",
       "      <td>0.0</td>\n",
       "      <td>1.0</td>\n",
       "      <td>0.0</td>\n",
       "      <td>0.0</td>\n",
       "      <td>1.0</td>\n",
       "      <td>0.0</td>\n",
       "      <td>...</td>\n",
       "      <td>Own</td>\n",
       "      <td>Employed</td>\n",
       "      <td>lzgpxyit</td>\n",
       "      <td>MSA, Not Principle  City</td>\n",
       "      <td>1.0</td>\n",
       "      <td>NaN</td>\n",
       "      <td>fcxhlnwr</td>\n",
       "      <td>cmhcxjea</td>\n",
       "      <td>False</td>\n",
       "      <td>False</td>\n",
       "    </tr>\n",
       "    <tr>\n",
       "      <th>15568</th>\n",
       "      <td>1.0</td>\n",
       "      <td>2.0</td>\n",
       "      <td>0.0</td>\n",
       "      <td>0.0</td>\n",
       "      <td>0.0</td>\n",
       "      <td>1.0</td>\n",
       "      <td>0.0</td>\n",
       "      <td>0.0</td>\n",
       "      <td>0.0</td>\n",
       "      <td>0.0</td>\n",
       "      <td>...</td>\n",
       "      <td>Own</td>\n",
       "      <td>Not in Labor Force</td>\n",
       "      <td>dqpwygqj</td>\n",
       "      <td>MSA, Not Principle  City</td>\n",
       "      <td>1.0</td>\n",
       "      <td>1.0</td>\n",
       "      <td>NaN</td>\n",
       "      <td>NaN</td>\n",
       "      <td>False</td>\n",
       "      <td>False</td>\n",
       "    </tr>\n",
       "    <tr>\n",
       "      <th>4529</th>\n",
       "      <td>2.0</td>\n",
       "      <td>2.0</td>\n",
       "      <td>0.0</td>\n",
       "      <td>1.0</td>\n",
       "      <td>0.0</td>\n",
       "      <td>1.0</td>\n",
       "      <td>0.0</td>\n",
       "      <td>0.0</td>\n",
       "      <td>1.0</td>\n",
       "      <td>0.0</td>\n",
       "      <td>...</td>\n",
       "      <td>Own</td>\n",
       "      <td>Employed</td>\n",
       "      <td>mlyzmhmf</td>\n",
       "      <td>MSA, Not Principle  City</td>\n",
       "      <td>NaN</td>\n",
       "      <td>NaN</td>\n",
       "      <td>xqicxuve</td>\n",
       "      <td>mxkfnird</td>\n",
       "      <td>True</td>\n",
       "      <td>True</td>\n",
       "    </tr>\n",
       "  </tbody>\n",
       "</table>\n",
       "<p>5 rows × 37 columns</p>\n",
       "</div>"
      ],
      "text/plain": [
       "              h1n1_concern h1n1_knowledge behavioral_antiviral_meds  \\\n",
       "respondent_id                                                         \n",
       "6528                   3.0            NaN                       0.0   \n",
       "4129                   1.0            2.0                       0.0   \n",
       "16632                  2.0            2.0                       0.0   \n",
       "15568                  1.0            2.0                       0.0   \n",
       "4529                   2.0            2.0                       0.0   \n",
       "\n",
       "              behavioral_avoidance behavioral_face_mask behavioral_wash_hands  \\\n",
       "respondent_id                                                                   \n",
       "6528                           1.0                  0.0                   1.0   \n",
       "4129                           1.0                  0.0                   1.0   \n",
       "16632                          1.0                  0.0                   1.0   \n",
       "15568                          0.0                  0.0                   1.0   \n",
       "4529                           1.0                  0.0                   1.0   \n",
       "\n",
       "              behavioral_large_gatherings behavioral_outside_home  \\\n",
       "respondent_id                                                       \n",
       "6528                                  0.0                     1.0   \n",
       "4129                                  0.0                     0.0   \n",
       "16632                                 0.0                     0.0   \n",
       "15568                                 0.0                     0.0   \n",
       "4529                                  0.0                     0.0   \n",
       "\n",
       "              behavioral_touch_face doctor_recc_h1n1  ... rent_or_own  \\\n",
       "respondent_id                                         ...               \n",
       "6528                            1.0              0.0  ...         Own   \n",
       "4129                            1.0              NaN  ...        Rent   \n",
       "16632                           1.0              0.0  ...         Own   \n",
       "15568                           0.0              0.0  ...         Own   \n",
       "4529                            1.0              0.0  ...         Own   \n",
       "\n",
       "                employment_status hhs_geo_region                census_msa  \\\n",
       "respondent_id                                                                \n",
       "6528           Not in Labor Force       lzgpxyit  MSA, Not Principle  City   \n",
       "4129                     Employed       oxchjgsf  MSA, Not Principle  City   \n",
       "16632                    Employed       lzgpxyit  MSA, Not Principle  City   \n",
       "15568          Not in Labor Force       dqpwygqj  MSA, Not Principle  City   \n",
       "4529                     Employed       mlyzmhmf  MSA, Not Principle  City   \n",
       "\n",
       "              household_adults household_children employment_industry  \\\n",
       "respondent_id                                                           \n",
       "6528                       1.0                NaN                 NaN   \n",
       "4129                       1.0                3.0                 NaN   \n",
       "16632                      1.0                NaN            fcxhlnwr   \n",
       "15568                      1.0                1.0                 NaN   \n",
       "4529                       NaN                NaN            xqicxuve   \n",
       "\n",
       "              employment_occupation h1n1_vaccine seasonal_vaccine  \n",
       "respondent_id                                                      \n",
       "6528                            NaN        False             True  \n",
       "4129                       xtkaffoo        False            False  \n",
       "16632                      cmhcxjea        False            False  \n",
       "15568                           NaN        False            False  \n",
       "4529                       mxkfnird         True             True  \n",
       "\n",
       "[5 rows x 37 columns]"
      ]
     },
     "execution_count": 6,
     "metadata": {},
     "output_type": "execute_result"
    }
   ],
   "source": [
    "flushot_df = pd.concat([X, Y], axis='columns')\n",
    "flushot_df.sample(5)"
   ]
  },
  {
   "cell_type": "markdown",
   "id": "13317b22",
   "metadata": {},
   "source": [
    "# Exploratory data analysis -- Feature engineering"
   ]
  },
  {
   "cell_type": "code",
   "execution_count": 7,
   "id": "96aaa172",
   "metadata": {},
   "outputs": [
    {
     "name": "stdout",
     "output_type": "stream",
     "text": [
      "<class 'pandas.core.frame.DataFrame'>\n",
      "Int64Index: 26707 entries, 0 to 26706\n",
      "Data columns (total 37 columns):\n",
      " #   Column                       Non-Null Count  Dtype   \n",
      "---  ------                       --------------  -----   \n",
      " 0   h1n1_concern                 23319 non-null  category\n",
      " 1   h1n1_knowledge               24085 non-null  category\n",
      " 2   behavioral_antiviral_meds    26636 non-null  category\n",
      " 3   behavioral_avoidance         26499 non-null  category\n",
      " 4   behavioral_face_mask         26688 non-null  category\n",
      " 5   behavioral_wash_hands        26665 non-null  category\n",
      " 6   behavioral_large_gatherings  26620 non-null  category\n",
      " 7   behavioral_outside_home      26625 non-null  category\n",
      " 8   behavioral_touch_face        26579 non-null  category\n",
      " 9   doctor_recc_h1n1             24547 non-null  category\n",
      " 10  doctor_recc_seasonal         24547 non-null  category\n",
      " 11  chronic_med_condition        25736 non-null  category\n",
      " 12  child_under_6_months         25887 non-null  category\n",
      " 13  health_worker                25903 non-null  category\n",
      " 14  health_insurance             14433 non-null  category\n",
      " 15  opinion_h1n1_vacc_effective  26316 non-null  category\n",
      " 16  opinion_h1n1_risk            26319 non-null  category\n",
      " 17  opinion_h1n1_sick_from_vacc  26312 non-null  category\n",
      " 18  opinion_seas_vacc_effective  26245 non-null  category\n",
      " 19  opinion_seas_risk            26193 non-null  category\n",
      " 20  opinion_seas_sick_from_vacc  26170 non-null  category\n",
      " 21  age_group                    26707 non-null  category\n",
      " 22  education                    25300 non-null  category\n",
      " 23  race                         26707 non-null  category\n",
      " 24  sex                          26707 non-null  category\n",
      " 25  income_poverty               22284 non-null  category\n",
      " 26  marital_status               25299 non-null  category\n",
      " 27  rent_or_own                  24665 non-null  category\n",
      " 28  employment_status            25244 non-null  category\n",
      " 29  hhs_geo_region               26707 non-null  category\n",
      " 30  census_msa                   26707 non-null  category\n",
      " 31  household_adults             18402 non-null  category\n",
      " 32  household_children           7786 non-null   category\n",
      " 33  employment_industry          13377 non-null  category\n",
      " 34  employment_occupation        13237 non-null  category\n",
      " 35  h1n1_vaccine                 26707 non-null  bool    \n",
      " 36  seasonal_vaccine             26707 non-null  bool    \n",
      "dtypes: bool(2), category(35)\n",
      "memory usage: 1.2 MB\n"
     ]
    }
   ],
   "source": [
    "flushot_df.info()"
   ]
  },
  {
   "cell_type": "code",
   "execution_count": 8,
   "id": "589bc5e8",
   "metadata": {},
   "outputs": [
    {
     "data": {
      "text/plain": [
       "h1n1_concern                    3\n",
       "h1n1_knowledge                  2\n",
       "behavioral_antiviral_meds       2\n",
       "behavioral_avoidance            2\n",
       "behavioral_face_mask            2\n",
       "behavioral_wash_hands           2\n",
       "behavioral_large_gatherings     2\n",
       "behavioral_outside_home         2\n",
       "behavioral_touch_face           2\n",
       "doctor_recc_h1n1                2\n",
       "doctor_recc_seasonal            2\n",
       "chronic_med_condition           2\n",
       "child_under_6_months            2\n",
       "health_worker                   2\n",
       "health_insurance                2\n",
       "opinion_h1n1_vacc_effective     5\n",
       "opinion_h1n1_risk               5\n",
       "opinion_h1n1_sick_from_vacc     5\n",
       "opinion_seas_vacc_effective     5\n",
       "opinion_seas_risk               5\n",
       "opinion_seas_sick_from_vacc     5\n",
       "age_group                       5\n",
       "education                       4\n",
       "race                            4\n",
       "sex                             2\n",
       "income_poverty                  3\n",
       "marital_status                  2\n",
       "rent_or_own                     2\n",
       "employment_status               3\n",
       "hhs_geo_region                 10\n",
       "census_msa                      3\n",
       "household_adults                3\n",
       "household_children              3\n",
       "employment_industry            21\n",
       "employment_occupation          23\n",
       "h1n1_vaccine                    2\n",
       "seasonal_vaccine                2\n",
       "dtype: int64"
      ]
     },
     "execution_count": 8,
     "metadata": {},
     "output_type": "execute_result"
    }
   ],
   "source": [
    "flushot_df.nunique()"
   ]
  },
  {
   "cell_type": "code",
   "execution_count": 9,
   "id": "e93108da",
   "metadata": {},
   "outputs": [
    {
     "data": {
      "text/plain": [
       "2.0    10575\n",
       "1.0     8153\n",
       "3.0     4591\n",
       "4.0        0\n",
       "5.0        0\n",
       "Name: h1n1_concern, dtype: int64"
      ]
     },
     "metadata": {},
     "output_type": "display_data"
    },
    {
     "data": {
      "text/plain": [
       "4.0    11683\n",
       "5.0     7166\n",
       "3.0     4723\n",
       "2.0     1858\n",
       "1.0      886\n",
       "Name: opinion_h1n1_vacc_effective, dtype: int64"
      ]
     },
     "metadata": {},
     "output_type": "display_data"
    },
    {
     "data": {
      "text/plain": [
       "2.0    9919\n",
       "1.0    8139\n",
       "4.0    5394\n",
       "5.0    1750\n",
       "3.0    1117\n",
       "Name: opinion_h1n1_risk, dtype: int64"
      ]
     },
     "metadata": {},
     "output_type": "display_data"
    },
    {
     "data": {
      "text/plain": [
       "2.0    9129\n",
       "1.0    8998\n",
       "4.0    5850\n",
       "5.0    2187\n",
       "3.0     148\n",
       "Name: opinion_h1n1_sick_from_vacc, dtype: int64"
      ]
     },
     "metadata": {},
     "output_type": "display_data"
    },
    {
     "data": {
      "text/plain": [
       "4.0    11629\n",
       "5.0     9973\n",
       "2.0     2206\n",
       "1.0     1221\n",
       "3.0     1216\n",
       "Name: opinion_seas_vacc_effective, dtype: int64"
      ]
     },
     "metadata": {},
     "output_type": "display_data"
    },
    {
     "data": {
      "text/plain": [
       "2.0    8954\n",
       "4.0    7630\n",
       "1.0    5974\n",
       "5.0    2958\n",
       "3.0     677\n",
       "Name: opinion_seas_risk, dtype: int64"
      ]
     },
     "metadata": {},
     "output_type": "display_data"
    },
    {
     "data": {
      "text/plain": [
       "1.0    11870\n",
       "2.0     7633\n",
       "4.0     4852\n",
       "5.0     1721\n",
       "3.0       94\n",
       "Name: opinion_seas_sick_from_vacc, dtype: int64"
      ]
     },
     "metadata": {},
     "output_type": "display_data"
    },
    {
     "data": {
      "text/plain": [
       "65+ Years        6843\n",
       "55 - 64 Years    5563\n",
       "45 - 54 Years    5238\n",
       "18 - 34 Years    5215\n",
       "35 - 44 Years    3848\n",
       "Name: age_group, dtype: int64"
      ]
     },
     "metadata": {},
     "output_type": "display_data"
    },
    {
     "data": {
      "text/plain": [
       "College Graduate    10097\n",
       "Some College         7043\n",
       "12 Years             5797\n",
       "< 12 Years           2363\n",
       "Name: education, dtype: int64"
      ]
     },
     "metadata": {},
     "output_type": "display_data"
    },
    {
     "data": {
      "text/plain": [
       "White                21222\n",
       "Black                 2118\n",
       "Hispanic              1755\n",
       "Other or Multiple     1612\n",
       "Name: race, dtype: int64"
      ]
     },
     "metadata": {},
     "output_type": "display_data"
    },
    {
     "data": {
      "text/plain": [
       "<= $75,000, Above Poverty    12777\n",
       "> $75,000                     6810\n",
       "Below Poverty                 2697\n",
       "Name: income_poverty, dtype: int64"
      ]
     },
     "metadata": {},
     "output_type": "display_data"
    },
    {
     "data": {
      "text/plain": [
       "Employed              13560\n",
       "Not in Labor Force    10231\n",
       "Unemployed             1453\n",
       "Name: employment_status, dtype: int64"
      ]
     },
     "metadata": {},
     "output_type": "display_data"
    },
    {
     "data": {
      "text/plain": [
       "lzgpxyit    4297\n",
       "fpwskwrf    3265\n",
       "qufhixun    3102\n",
       "oxchjgsf    2859\n",
       "kbazzjca    2858\n",
       "bhuqouqj    2846\n",
       "mlyzmhmf    2243\n",
       "lrircsnp    2078\n",
       "atmpeygn    2033\n",
       "dqpwygqj    1126\n",
       "Name: hhs_geo_region, dtype: int64"
      ]
     },
     "metadata": {},
     "output_type": "display_data"
    },
    {
     "data": {
      "text/plain": [
       "MSA, Not Principle  City    11645\n",
       "MSA, Principle City          7864\n",
       "Non-MSA                      7198\n",
       "Name: census_msa, dtype: int64"
      ]
     },
     "metadata": {},
     "output_type": "display_data"
    },
    {
     "data": {
      "text/plain": [
       "1.0    14474\n",
       "2.0     2803\n",
       "3.0     1125\n",
       "4.0        0\n",
       "5.0        0\n",
       "Name: household_adults, dtype: int64"
      ]
     },
     "metadata": {},
     "output_type": "display_data"
    },
    {
     "data": {
      "text/plain": [
       "1.0    3175\n",
       "2.0    2864\n",
       "3.0    1747\n",
       "4.0       0\n",
       "5.0       0\n",
       "Name: household_children, dtype: int64"
      ]
     },
     "metadata": {},
     "output_type": "display_data"
    },
    {
     "data": {
      "text/plain": [
       "fcxhlnwr    2468\n",
       "wxleyezf    1804\n",
       "ldnlellj    1231\n",
       "pxcmvdjn    1037\n",
       "atmlpfrs     926\n",
       "arjwrbjb     871\n",
       "xicduogh     851\n",
       "mfikgejo     614\n",
       "vjjrobsf     527\n",
       "rucpziij     523\n",
       "xqicxuve     511\n",
       "saaquncn     338\n",
       "cfqqtusy     325\n",
       "nduyfdeo     286\n",
       "mcubkhph     275\n",
       "wlfvacwt     215\n",
       "dotnnunm     201\n",
       "haxffmxo     148\n",
       "msuufmds     124\n",
       "phxvnwax      89\n",
       "qnlwzans      13\n",
       "Name: employment_industry, dtype: int64"
      ]
     },
     "metadata": {},
     "output_type": "display_data"
    },
    {
     "data": {
      "text/plain": [
       "xtkaffoo    1778\n",
       "mxkfnird    1509\n",
       "emcorrxb    1270\n",
       "cmhcxjea    1247\n",
       "xgwztkwe    1082\n",
       "hfxkjkmi     766\n",
       "qxajmpny     548\n",
       "xqwwgdyp     485\n",
       "kldqjyjy     469\n",
       "uqqtjvyb     452\n",
       "tfqavkke     388\n",
       "ukymxvdu     372\n",
       "vlluhbov     354\n",
       "oijqvulv     344\n",
       "ccgxvspp     341\n",
       "bxpfxfdn     331\n",
       "haliazsg     296\n",
       "rcertsgn     276\n",
       "xzmlyyjv     248\n",
       "dlvbwzss     227\n",
       "hodpvpew     208\n",
       "dcjcmpih     148\n",
       "pvmttkik      98\n",
       "Name: employment_occupation, dtype: int64"
      ]
     },
     "metadata": {},
     "output_type": "display_data"
    }
   ],
   "source": [
    "for col in flushot_df.columns:\n",
    "    if flushot_df[col].nunique() > 2:\n",
    "        display(flushot_df[col].value_counts())"
   ]
  },
  {
   "cell_type": "code",
   "execution_count": 10,
   "id": "65c53cbd",
   "metadata": {},
   "outputs": [
    {
     "data": {
      "text/plain": [
       "1.0    14598\n",
       "2.0     9487\n",
       "3.0        0\n",
       "4.0        0\n",
       "5.0        0\n",
       "Name: h1n1_knowledge, dtype: int64"
      ]
     },
     "metadata": {},
     "output_type": "display_data"
    },
    {
     "data": {
      "text/plain": [
       "0.0    25335\n",
       "1.0     1301\n",
       "Name: behavioral_antiviral_meds, dtype: int64"
      ]
     },
     "metadata": {},
     "output_type": "display_data"
    },
    {
     "data": {
      "text/plain": [
       "1.0    19228\n",
       "0.0     7271\n",
       "Name: behavioral_avoidance, dtype: int64"
      ]
     },
     "metadata": {},
     "output_type": "display_data"
    },
    {
     "data": {
      "text/plain": [
       "0.0    24847\n",
       "1.0     1841\n",
       "Name: behavioral_face_mask, dtype: int64"
      ]
     },
     "metadata": {},
     "output_type": "display_data"
    },
    {
     "data": {
      "text/plain": [
       "1.0    22015\n",
       "0.0     4650\n",
       "Name: behavioral_wash_hands, dtype: int64"
      ]
     },
     "metadata": {},
     "output_type": "display_data"
    },
    {
     "data": {
      "text/plain": [
       "0.0    17073\n",
       "1.0     9547\n",
       "Name: behavioral_large_gatherings, dtype: int64"
      ]
     },
     "metadata": {},
     "output_type": "display_data"
    },
    {
     "data": {
      "text/plain": [
       "0.0    17644\n",
       "1.0     8981\n",
       "Name: behavioral_outside_home, dtype: int64"
      ]
     },
     "metadata": {},
     "output_type": "display_data"
    },
    {
     "data": {
      "text/plain": [
       "1.0    18001\n",
       "0.0     8578\n",
       "Name: behavioral_touch_face, dtype: int64"
      ]
     },
     "metadata": {},
     "output_type": "display_data"
    },
    {
     "data": {
      "text/plain": [
       "0.0    19139\n",
       "1.0     5408\n",
       "Name: doctor_recc_h1n1, dtype: int64"
      ]
     },
     "metadata": {},
     "output_type": "display_data"
    },
    {
     "data": {
      "text/plain": [
       "0.0    16453\n",
       "1.0     8094\n",
       "Name: doctor_recc_seasonal, dtype: int64"
      ]
     },
     "metadata": {},
     "output_type": "display_data"
    },
    {
     "data": {
      "text/plain": [
       "0.0    18446\n",
       "1.0     7290\n",
       "Name: chronic_med_condition, dtype: int64"
      ]
     },
     "metadata": {},
     "output_type": "display_data"
    },
    {
     "data": {
      "text/plain": [
       "0.0    23749\n",
       "1.0     2138\n",
       "Name: child_under_6_months, dtype: int64"
      ]
     },
     "metadata": {},
     "output_type": "display_data"
    },
    {
     "data": {
      "text/plain": [
       "0.0    23004\n",
       "1.0     2899\n",
       "Name: health_worker, dtype: int64"
      ]
     },
     "metadata": {},
     "output_type": "display_data"
    },
    {
     "data": {
      "text/plain": [
       "1.0    12697\n",
       "0.0     1736\n",
       "Name: health_insurance, dtype: int64"
      ]
     },
     "metadata": {},
     "output_type": "display_data"
    },
    {
     "data": {
      "text/plain": [
       "Female    15858\n",
       "Male      10849\n",
       "Name: sex, dtype: int64"
      ]
     },
     "metadata": {},
     "output_type": "display_data"
    },
    {
     "data": {
      "text/plain": [
       "Married        13555\n",
       "Not Married    11744\n",
       "Name: marital_status, dtype: int64"
      ]
     },
     "metadata": {},
     "output_type": "display_data"
    },
    {
     "data": {
      "text/plain": [
       "Own     18736\n",
       "Rent     5929\n",
       "Name: rent_or_own, dtype: int64"
      ]
     },
     "metadata": {},
     "output_type": "display_data"
    },
    {
     "data": {
      "text/plain": [
       "False    21033\n",
       "True      5674\n",
       "Name: h1n1_vaccine, dtype: int64"
      ]
     },
     "metadata": {},
     "output_type": "display_data"
    },
    {
     "data": {
      "text/plain": [
       "False    14272\n",
       "True     12435\n",
       "Name: seasonal_vaccine, dtype: int64"
      ]
     },
     "metadata": {},
     "output_type": "display_data"
    }
   ],
   "source": [
    "for col in flushot_df.columns:\n",
    "    if flushot_df[col].nunique() == 2:\n",
    "        display(flushot_df[col].value_counts())"
   ]
  },
  {
   "cell_type": "markdown",
   "id": "a977a895",
   "metadata": {},
   "source": [
    "### Observations\n",
    "1. There are several missing values\n",
    "2. All features are categorical\n",
    "3. Features with cardinality greater than 2, except `race`, `employment_status`, `hhs_geo_region`, `census_msa`, `employment_industry` and `employment_occupation` are ordinal categoricals.  All binary features, and `race`, `employment_status`, `hhs_geo_region`, `census_msa`, `employment_industry` and `employment_occupation` are nominal categoricals."
   ]
  },
  {
   "cell_type": "code",
   "execution_count": null,
   "id": "035cde3c",
   "metadata": {},
   "outputs": [],
   "source": []
  }
 ],
 "metadata": {
  "kernelspec": {
   "display_name": "Python 3 (ipykernel)",
   "language": "python",
   "name": "python3"
  },
  "language_info": {
   "codemirror_mode": {
    "name": "ipython",
    "version": 3
   },
   "file_extension": ".py",
   "mimetype": "text/x-python",
   "name": "python",
   "nbconvert_exporter": "python",
   "pygments_lexer": "ipython3",
   "version": "3.9.12"
  }
 },
 "nbformat": 4,
 "nbformat_minor": 5
}
